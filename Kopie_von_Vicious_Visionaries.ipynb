{
  "nbformat": 4,
  "nbformat_minor": 0,
  "metadata": {
    "colab": {
      "name": "Kopie von Vicious_Visionaries.ipynb",
      "provenance": [],
      "collapsed_sections": [],
      "include_colab_link": true
    },
    "kernelspec": {
      "name": "python3",
      "display_name": "Python 3"
    },
    "language_info": {
      "name": "python"
    }
  },
  "cells": [
    {
      "cell_type": "markdown",
      "metadata": {
        "id": "view-in-github",
        "colab_type": "text"
      },
      "source": [
        "<a href=\"https://colab.research.google.com/github/tessytom/content-creation/blob/main/Kopie_von_Vicious_Visionaries.ipynb\" target=\"_parent\"><img src=\"https://colab.research.google.com/assets/colab-badge.svg\" alt=\"Open In Colab\"/></a>"
      ]
    },
    {
      "cell_type": "code",
      "metadata": {
        "execution": {},
        "id": "_qv6qtU2wIxx",
        "colab": {
          "base_uri": "https://localhost:8080/"
        },
        "outputId": "93cb165e-f59a-4efc-916c-dc8d1d824c8d"
      },
      "source": [
        "# @title Install dependencies\n",
        "!pip install torch_intermediate_layer_getter --quiet\n",
        "!pip install Pillow --quiet"
      ],
      "execution_count": null,
      "outputs": [
        {
          "output_type": "stream",
          "text": [
            "  Building wheel for torch-intermediate-layer-getter (setup.py) ... \u001b[?25l\u001b[?25hdone\n"
          ],
          "name": "stdout"
        }
      ]
    },
    {
      "cell_type": "code",
      "metadata": {
        "execution": {},
        "id": "xanbaEUhwIxy"
      },
      "source": [
        "# Imports\n",
        "import random\n",
        "import time\n",
        "\n",
        "import numpy as np\n",
        "import tqdm.notebook as tqdm\n",
        "import matplotlib.pyplot as plt\n",
        "\n",
        "from PIL import Image, ImageFilter\n",
        "from shutil import copyfile, rmtree\n",
        "from sklearn.model_selection import train_test_split\n",
        "\n",
        "import torch\n",
        "import torch.nn as nn\n",
        "from torch import optim\n",
        "import torch.nn.functional as F\n",
        "# For getting output of intermediate layers in Pytorch\n",
        "from torch_intermediate_layer_getter import IntermediateLayerGetter as LayerGetter\n",
        "# For interactive visualization\n",
        "from torch.utils.tensorboard import SummaryWriter\n",
        "\n",
        "import torchvision\n",
        "from torchvision import transforms\n",
        "import torchvision.models as models\n",
        "\n",
        "\n",
        "%load_ext tensorboard"
      ],
      "execution_count": null,
      "outputs": []
    },
    {
      "cell_type": "code",
      "metadata": {
        "execution": {},
        "id": "3WbKWLkKwIxy"
      },
      "source": [
        "# @title Helpers functions\n",
        "def set_seed(seed=None, seed_torch=True):\n",
        "  if seed is None:\n",
        "    seed = np.random.choice(2 ** 32)\n",
        "  random.seed(seed)\n",
        "  np.random.seed(seed)\n",
        "  if seed_torch:\n",
        "    torch.manual_seed(seed)\n",
        "    torch.cuda.manual_seed_all(seed)\n",
        "    torch.cuda.manual_seed(seed)\n",
        "    torch.backends.cudnn.benchmark = False\n",
        "    torch.backends.cudnn.deterministic = True\n",
        "\n",
        "  print(f'Random seed {seed} has been set.')\n",
        "\n",
        "# In case that `DataLoader` is used\n",
        "def seed_worker(worker_id):\n",
        "  worker_seed = torch.initial_seed() % 2**32\n",
        "  np.random.seed(worker_seed)\n",
        "  random.seed(worker_seed)\n",
        "\n",
        "def set_device():\n",
        "  device = \"cuda\" if torch.cuda.is_available() else \"cpu\"\n",
        "  if device != \"cuda\":\n",
        "    print(\"WARNING: For this notebook to perform best, \"\n",
        "        \"if possible, in the menu under `Runtime` -> \"\n",
        "        \"`Change runtime type.`  select `GPU` \")\n",
        "  else:\n",
        "    print(\"GPU is enabled in this notebook.\")\n",
        "\n",
        "  return device"
      ],
      "execution_count": null,
      "outputs": []
    },
    {
      "cell_type": "code",
      "metadata": {
        "execution": {},
        "id": "2JMFSBDWwIxz",
        "colab": {
          "base_uri": "https://localhost:8080/"
        },
        "outputId": "a5b2c434-f2de-4b7e-f70d-1d78e6c32682"
      },
      "source": [
        "SEED = 42\n",
        "set_seed(seed=SEED)\n",
        "DEVICE = set_device()"
      ],
      "execution_count": null,
      "outputs": [
        {
          "output_type": "stream",
          "text": [
            "Random seed 42 has been set.\n",
            "WARNING: For this notebook to perform best, if possible, in the menu under `Runtime` -> `Change runtime type.`  select `GPU` \n"
          ],
          "name": "stdout"
        }
      ]
    },
    {
      "cell_type": "markdown",
      "metadata": {
        "id": "9S37nySj9msD"
      },
      "source": [
        "Modification of the network taken from : https://medium.com/@buiminhhien2k/solving-cifar10-dataset-with-vgg16-pre-trained-architect-using-pytorch-validation-accuracy-over-3f9596942861"
      ]
    },
    {
      "cell_type": "code",
      "metadata": {
        "colab": {
          "base_uri": "https://localhost:8080/"
        },
        "id": "lGSqApt1w2JZ",
        "outputId": "d8c0886d-667a-4f58-8e89-b962dd18d1a1"
      },
      "source": [
        "# @title Load the model \n",
        "model = models.vgg19(pretrained = False, progress=True)\n",
        "input_lastLayer = model.classifier[6].in_features\n",
        "model.classifier[6] = nn.Linear(input_lastLayer,10)\n",
        "print(model)"
      ],
      "execution_count": null,
      "outputs": [
        {
          "output_type": "stream",
          "text": [
            "VGG(\n",
            "  (features): Sequential(\n",
            "    (0): Conv2d(3, 64, kernel_size=(3, 3), stride=(1, 1), padding=(1, 1))\n",
            "    (1): ReLU(inplace=True)\n",
            "    (2): Conv2d(64, 64, kernel_size=(3, 3), stride=(1, 1), padding=(1, 1))\n",
            "    (3): ReLU(inplace=True)\n",
            "    (4): MaxPool2d(kernel_size=2, stride=2, padding=0, dilation=1, ceil_mode=False)\n",
            "    (5): Conv2d(64, 128, kernel_size=(3, 3), stride=(1, 1), padding=(1, 1))\n",
            "    (6): ReLU(inplace=True)\n",
            "    (7): Conv2d(128, 128, kernel_size=(3, 3), stride=(1, 1), padding=(1, 1))\n",
            "    (8): ReLU(inplace=True)\n",
            "    (9): MaxPool2d(kernel_size=2, stride=2, padding=0, dilation=1, ceil_mode=False)\n",
            "    (10): Conv2d(128, 256, kernel_size=(3, 3), stride=(1, 1), padding=(1, 1))\n",
            "    (11): ReLU(inplace=True)\n",
            "    (12): Conv2d(256, 256, kernel_size=(3, 3), stride=(1, 1), padding=(1, 1))\n",
            "    (13): ReLU(inplace=True)\n",
            "    (14): Conv2d(256, 256, kernel_size=(3, 3), stride=(1, 1), padding=(1, 1))\n",
            "    (15): ReLU(inplace=True)\n",
            "    (16): Conv2d(256, 256, kernel_size=(3, 3), stride=(1, 1), padding=(1, 1))\n",
            "    (17): ReLU(inplace=True)\n",
            "    (18): MaxPool2d(kernel_size=2, stride=2, padding=0, dilation=1, ceil_mode=False)\n",
            "    (19): Conv2d(256, 512, kernel_size=(3, 3), stride=(1, 1), padding=(1, 1))\n",
            "    (20): ReLU(inplace=True)\n",
            "    (21): Conv2d(512, 512, kernel_size=(3, 3), stride=(1, 1), padding=(1, 1))\n",
            "    (22): ReLU(inplace=True)\n",
            "    (23): Conv2d(512, 512, kernel_size=(3, 3), stride=(1, 1), padding=(1, 1))\n",
            "    (24): ReLU(inplace=True)\n",
            "    (25): Conv2d(512, 512, kernel_size=(3, 3), stride=(1, 1), padding=(1, 1))\n",
            "    (26): ReLU(inplace=True)\n",
            "    (27): MaxPool2d(kernel_size=2, stride=2, padding=0, dilation=1, ceil_mode=False)\n",
            "    (28): Conv2d(512, 512, kernel_size=(3, 3), stride=(1, 1), padding=(1, 1))\n",
            "    (29): ReLU(inplace=True)\n",
            "    (30): Conv2d(512, 512, kernel_size=(3, 3), stride=(1, 1), padding=(1, 1))\n",
            "    (31): ReLU(inplace=True)\n",
            "    (32): Conv2d(512, 512, kernel_size=(3, 3), stride=(1, 1), padding=(1, 1))\n",
            "    (33): ReLU(inplace=True)\n",
            "    (34): Conv2d(512, 512, kernel_size=(3, 3), stride=(1, 1), padding=(1, 1))\n",
            "    (35): ReLU(inplace=True)\n",
            "    (36): MaxPool2d(kernel_size=2, stride=2, padding=0, dilation=1, ceil_mode=False)\n",
            "  )\n",
            "  (avgpool): AdaptiveAvgPool2d(output_size=(7, 7))\n",
            "  (classifier): Sequential(\n",
            "    (0): Linear(in_features=25088, out_features=4096, bias=True)\n",
            "    (1): ReLU(inplace=True)\n",
            "    (2): Dropout(p=0.5, inplace=False)\n",
            "    (3): Linear(in_features=4096, out_features=4096, bias=True)\n",
            "    (4): ReLU(inplace=True)\n",
            "    (5): Dropout(p=0.5, inplace=False)\n",
            "    (6): Linear(in_features=4096, out_features=10, bias=True)\n",
            "  )\n",
            ")\n"
          ],
          "name": "stdout"
        }
      ]
    },
    {
      "cell_type": "code",
      "metadata": {
        "id": "AWmatvX1x5XL",
        "colab": {
          "base_uri": "https://localhost:8080/"
        },
        "outputId": "10133c90-0991-42f4-8ec0-b1446f36cd6b"
      },
      "source": [
        "# @title Load a much simpler model (and overwrite)\n",
        "class Net(nn.Module):\n",
        "    def __init__(self):\n",
        "        super().__init__()\n",
        "        self.conv1 = nn.Conv2d(3, 18, 5)\n",
        "        self.pool = nn.MaxPool2d(2, 2)\n",
        "        self.conv2 = nn.Conv2d(18, 36, 5)\n",
        "        self.fc1 = nn.Linear(36 * 5 * 5, 120)\n",
        "        self.drop = nn.Dropout(p=0.5)\n",
        "        self.fc2 = nn.Linear(120, 84)\n",
        "        self.fc3 = nn.Linear(84, 10)\n",
        "\n",
        "    def forward(self, x):\n",
        "        x = self.pool(F.relu(self.conv1(x)))\n",
        "        x = self.pool(F.relu(self.conv2(x)))\n",
        "        x = torch.flatten(x, 1) # flatten all dimensions except batch\n",
        "        x = self.drop(F.relu(self.fc1(x)))\n",
        "        x = self.drop(F.relu(self.fc2(x)))\n",
        "        x = self.fc3(x)\n",
        "        # x = F.softmax(x)\n",
        "        return x\n",
        "\n",
        "model = Net()\n",
        "print(model)"
      ],
      "execution_count": null,
      "outputs": [
        {
          "output_type": "stream",
          "text": [
            "Net(\n",
            "  (conv1): Conv2d(3, 18, kernel_size=(5, 5), stride=(1, 1))\n",
            "  (pool): MaxPool2d(kernel_size=2, stride=2, padding=0, dilation=1, ceil_mode=False)\n",
            "  (conv2): Conv2d(18, 36, kernel_size=(5, 5), stride=(1, 1))\n",
            "  (fc1): Linear(in_features=900, out_features=120, bias=True)\n",
            "  (drop): Dropout(p=0.5, inplace=False)\n",
            "  (fc2): Linear(in_features=120, out_features=84, bias=True)\n",
            "  (fc3): Linear(in_features=84, out_features=10, bias=True)\n",
            ")\n"
          ],
          "name": "stdout"
        }
      ]
    },
    {
      "cell_type": "code",
      "metadata": {
        "colab": {
          "base_uri": "https://localhost:8080/"
        },
        "id": "bojDtTuvkICe",
        "outputId": "d18439b7-4e76-440b-b2b2-818b793d04f6"
      },
      "source": [
        "# @title Load data\n",
        "from google.colab import drive\n",
        "drive.mount('/content/drive')"
      ],
      "execution_count": null,
      "outputs": [
        {
          "output_type": "stream",
          "text": [
            "Mounted at /content/drive\n"
          ],
          "name": "stdout"
        }
      ]
    },
    {
      "cell_type": "code",
      "metadata": {
        "id": "rvHpGjzEkSoe"
      },
      "source": [
        "path = F\"/content/drive/My Drive/CIFAR-10-C/\" \n",
        "#filename1 = 'motion_blur.npy'\n",
        "#filename_labels = 'labels.npy'\n",
        "#motion_blur_data = np.load(path+filename1)\n",
        "#labels = np.load(path+filename_labels)\n",
        "#motion_blur_data.shape\n",
        "#motion_blur_data.shape"
      ],
      "execution_count": null,
      "outputs": []
    },
    {
      "cell_type": "code",
      "metadata": {
        "id": "jusJEdBrmeqN"
      },
      "source": [
        "class CorruptedDataset(torch.utils.data.Dataset):\n",
        "    def __init__(self, file_name, severity_level, transform = None):\n",
        "        self.imgs_path = F\"/content/drive/My Drive/CIFAR-10-C/\" \n",
        "        file_name = path+file_name\n",
        "        data = np.load(file_name)\n",
        "        labels = np.load(path + 'labels.npy')\n",
        "\n",
        "        if severity_level == 'high':\n",
        "            self.data = data[-10000:]\n",
        "            self.labels = labels[-10000:]\n",
        "        elif severity_level == 'low':\n",
        "            self.data = data[:10000]\n",
        "            self.labels = labels[:10000]\n",
        "        print(self.data.shape)\n",
        "        self.class_map = {\"airplane\" : 0, \"automobile\" : 1, \"bird\" : 2, \"cat\" : 3,\n",
        "                          \"deer\" : 4, \"dog\" : 5, \"frog\" : 6, \"horse\" : 7, \"ship\" : 8,\n",
        "                          \"truck\" : 9}\n",
        "        self.img_dim = (32,32)\n",
        "        self.transform = transform\n",
        "    def __len__(self):\n",
        "        return len(self.data)\n",
        "    def __getitem__(self, idx):\n",
        "        img, class_id = self.data[idx], self.labels[idx]\n",
        "        class_id = torch.tensor([class_id], dtype=torch.long)\n",
        "        if self.transform:\n",
        "            img_tensor = self.transform(img)\n",
        "        return img_tensor, class_id.squeeze()"
      ],
      "execution_count": null,
      "outputs": []
    },
    {
      "cell_type": "code",
      "metadata": {
        "colab": {
          "base_uri": "https://localhost:8080/"
        },
        "id": "FfDR3e1ystqD",
        "outputId": "50916a48-2452-46bc-b193-e060676c327f"
      },
      "source": [
        "corruption_type_list = ['motion_blur.npy', 'defocus_blur.npy', 'gaussian_noise.npy', 'shot_noise.npy']\n",
        "severity_level = 'low'#['high', 'low']\n",
        "transform = transforms.Compose(\n",
        "    [transforms.ToTensor(),\n",
        "     transforms.Normalize((.5, .5, .5), (.5, .5, .5))])\n",
        "\n",
        "dataset1 = CorruptedDataset(corruption_type_list[0], severity_level, transform=transform)\n",
        "dataset2 = CorruptedDataset(corruption_type_list[1], severity_level, transform=transform)\n",
        "\n",
        "dataset_concat = torch.utils.data.ConcatDataset([dataset1, dataset2])\n",
        "\n",
        "batch_size = 100\n",
        "trainloader = torch.utils.data.DataLoader(dataset_concat, batch_size=batch_size,\n",
        "                                          shuffle=True, num_workers=2)\n",
        "\n",
        "\n",
        "classes = ('plane', 'car', 'bird', 'cat',\n",
        "           'deer', 'dog', 'frog', 'horse', 'ship', 'truck')"
      ],
      "execution_count": null,
      "outputs": [
        {
          "output_type": "stream",
          "text": [
            "(10000, 32, 32, 3)\n",
            "(10000, 32, 32, 3)\n"
          ],
          "name": "stdout"
        }
      ]
    },
    {
      "cell_type": "markdown",
      "metadata": {
        "id": "3uUdbi8ez11S"
      },
      "source": [
        "**TO DO: Load other corruption types and concatenate datasets**"
      ]
    },
    {
      "cell_type": "code",
      "metadata": {
        "colab": {
          "base_uri": "https://localhost:8080/",
          "height": 326
        },
        "id": "cRdGNyBXzOq7",
        "outputId": "dc01a945-17cf-4e90-9263-bf7570561e9b"
      },
      "source": [
        "# @title Take a look at the data \n",
        "\n",
        "# functions to show an image\n",
        "def imshow(img):\n",
        "    img = img/ 2 + 0.5     # unnormalize\n",
        "    npimg = img.numpy()\n",
        "    plt.imshow(np.transpose(npimg, (1, 2, 0)))\n",
        "    plt.show()\n",
        "\n",
        "# get some random training images\n",
        "dataiter = iter(trainloader)\n",
        "images, labels = dataiter.next()\n",
        "print(images.size())\n",
        "\n",
        "# show images\n",
        "imshow(torchvision.utils.make_grid(images))\n",
        "# print labels\n",
        "print(' '.join('%5s' % classes[labels[j]] for j in range(batch_size)))\n"
      ],
      "execution_count": null,
      "outputs": [
        {
          "output_type": "stream",
          "text": [
            "torch.Size([100, 3, 32, 32])\n"
          ],
          "name": "stdout"
        },
        {
          "output_type": "display_data",
          "data": {
            "image/png": "[encoded data removed]",
            "text/plain": [
              "<Figure size 432x288 with 1 Axes>"
            ]
          },
          "metadata": {
            "tags": [],
            "needs_background": "light"
          }
        },
        {
          "output_type": "stream",
          "text": [
            "  car  bird  frog   cat  ship   car   dog  deer truck  bird   cat  ship  ship  bird  frog   cat plane plane truck plane  bird  frog  ship  ship plane truck  bird  deer   cat  bird horse horse truck horse  deer  bird  frog   dog  bird  deer   cat  ship   cat truck   car horse  bird   cat   cat   car   car  bird  frog plane   car   car plane   dog  ship  bird  ship   dog plane truck  frog horse   cat   cat  frog   cat  frog  bird truck   dog   car  ship horse   car truck  frog truck  ship plane   dog   car  deer plane truck  ship truck  deer   dog   car   cat plane  deer  ship  frog  frog   cat\n"
          ],
          "name": "stdout"
        }
      ]
    },
    {
      "cell_type": "markdown",
      "metadata": {
        "id": "eXTRbIhUYfNv"
      },
      "source": [
        "# Train the model"
      ]
    },
    {
      "cell_type": "code",
      "metadata": {
        "colab": {
          "base_uri": "https://localhost:8080/"
        },
        "id": "bnPNoOJ40hFo",
        "outputId": "7b86060c-3a25-4f6a-fde6-36df8f5b291e"
      },
      "source": [
        "# take a look at the dimensionality \n",
        "print(trainloader.dataset)\n",
        "# print(testloader.dataset)"
      ],
      "execution_count": null,
      "outputs": [
        {
          "output_type": "stream",
          "text": [
            "<torch.utils.data.dataset.ConcatDataset object at 0x7fb71c759a10>\n"
          ],
          "name": "stdout"
        }
      ]
    },
    {
      "cell_type": "code",
      "metadata": {
        "id": "ko1Cg5bw2L7Y"
      },
      "source": [
        "# defining the optimizer\n",
        "optimizer = optim.Adam(model.parameters(), lr=3e-4)\n",
        "# defining the loss function\n",
        "criterion = nn.CrossEntropyLoss()\n",
        "# checking if GPU is available\n",
        "if torch.cuda.is_available():\n",
        "    model = model.to(DEVICE)\n",
        "    criterion = criterion.to(DEVICE)"
      ],
      "execution_count": null,
      "outputs": []
    },
    {
      "cell_type": "markdown",
      "metadata": {
        "id": "8eQbHQlc2cSG"
      },
      "source": [
        "Open issue: Not sure if we should implement some form of k-fold crossvalidation or not?\n",
        "https://www.machinecurve.com/index.php/2021/02/03/how-to-use-k-fold-cross-validation-with-pytorch/"
      ]
    },
    {
      "cell_type": "code",
      "metadata": {
        "id": "dpHCTRAyNcAX"
      },
      "source": [
        "# function to compute accuracy (could be probably implemented in a better way)\n",
        "def accuracy(outputs, labels):\n",
        "  correct_pred=0\n",
        "  total_pred=0\n",
        "  predictions = torch.argmax(outputs,dim=1)\n",
        "  for label, prediction in zip(labels, predictions):\n",
        "    if label == prediction:\n",
        "      correct_pred += 1\n",
        "    total_pred += 1\n",
        "  accuracy = correct_pred/total_pred\n",
        "  return accuracy\n"
      ],
      "execution_count": null,
      "outputs": []
    },
    {
      "cell_type": "code",
      "metadata": {
        "id": "jOQAwgp9A3Vr"
      },
      "source": [
        "# function to plot the trianing loss and accuracy and the test accuracy\n",
        "def plot_train_loss_acc(losses, accuracies_train, accuracies_test, fext):\n",
        "    plt.figure()\n",
        "    fig, axs = plt.subplots(1,2)\n",
        "    axs[0].plot( losses, label='Training Loss' )\n",
        "    axs[0].set_xlabel('epochs') ; axs[0].set_ylabel('Loss')\n",
        "    axs[0].legend()\n",
        "    axs[1].plot( accuracies_train, label='Training Accuracy' )\n",
        "    axs[1].plot( accuracies_test, label='Test Accuracy' )\n",
        "    axs[1].set_xlabel('epochs') ; axs[1].set_ylabel('Accuracy')\n",
        "    axs[1].set_ylim([0.0,1.05])\n",
        "    axs[1].legend()\n",
        "    fig.tight_layout(pad=3.0)\n",
        "    plt.savefig(fext + 'losses_accuracies.png', bbox_inches='tight')"
      ],
      "execution_count": null,
      "outputs": []
    },
    {
      "cell_type": "code",
      "metadata": {
        "colab": {
          "base_uri": "https://localhost:8080/",
          "height": 535
        },
        "id": "AKFBYDnt2kVc",
        "outputId": "9f978567-a4ef-494a-bab8-84aa77a465c0"
      },
      "source": [
        "# training loop\n",
        "training_loss = []\n",
        "training_accuracy = []\n",
        "test_accuracy = []\n",
        "wait = 0 \n",
        "early_stop_param = 10 \n",
        "\n",
        "for epoch in range(50):  # loop over the dataset multiple times\n",
        "\n",
        "    model.train()\n",
        "    running_loss = 0.0\n",
        "    acc = 0.0\n",
        "    for i, data in enumerate(trainloader):\n",
        "        # get the inputs; data is a list of [inputs, labels]\n",
        "        inputs, labels = data[0].to(DEVICE), data[1].to(DEVICE)\n",
        "\n",
        "        # zero the parameter gradients\n",
        "        optimizer.zero_grad()\n",
        "\n",
        "        # forward + backward + optimize\n",
        "        outputs = model(inputs)\n",
        "        # print(labels.shape)\n",
        "        loss = criterion(outputs, labels)\n",
        "        acc = accuracy(outputs, labels)\n",
        "        loss.backward()\n",
        "        optimizer.step()\n",
        "\n",
        "        # print statistics\n",
        "        running_loss += loss.item()\n",
        "        # if i % 1000 == 999:    # print every 10 mini-batch\n",
        "        #     print('[%d, %5d] loss: %.3f' %\n",
        "        #           (epoch + 1, i + 1, running_loss))\n",
        "        #     running_loss = 0.0\n",
        "    \n",
        "\n",
        "    # test_acc = []#0.0\n",
        "    # for i, data in enumerate(testloader):\n",
        "    #   # get the inputs; data is a list of [inputs, labels]\n",
        "    #   inputs, labels = data[0].to(DEVICE), data[1].to(DEVICE)\n",
        "\n",
        "    #   model.eval()\n",
        "    #   with torch.no_grad():\n",
        "    #     # forward + backward + optimize\n",
        "    #     outputs = model(inputs)\n",
        "    #     test_acc.append(accuracy(outputs, labels))\n",
        "    # test_accuracy.append(np.array(test_acc).mean())\n",
        "\n",
        "    # if np.array(test_acc).mean() < max(test_accuracy):\n",
        "    #   wait += 1   \n",
        "    # else:\n",
        "    #   wait = 0  \n",
        "\n",
        "    # if wait == early_stop_param:\n",
        "    #    print('Early stepped at [%d] epoch. Loss: %.3f. Training accuracy: %.3f . Test accuracy: %.3f' %\n",
        "    #        (epoch + 1, running_loss, acc, np.array(test_acc).mean()))\n",
        "    #    training_loss.append(running_loss)\n",
        "    #    training_accuracy.append(acc) \n",
        "    #    break \n",
        "\n",
        "    print('[%d] epoch. Loss: %.3f. Training accuracy: %.3f '%\n",
        "           (epoch + 1, running_loss, acc))\n",
        "    # print('[%d] epoch. Loss: %.3f. Training accuracy: %.3f . Test accuracy: %.3f' %\n",
        "    #        (epoch + 1, running_loss, acc, np.array(test_acc).mean()))\n",
        "    training_loss.append(running_loss)\n",
        "    training_accuracy.append(acc)\n",
        "\n",
        "print('Finished Training')"
      ],
      "execution_count": null,
      "outputs": [
        {
          "output_type": "stream",
          "text": [
            "[1] epoch. Loss: 223.826. Training accuracy: 0.220 \n",
            "[2] epoch. Loss: 204.292. Training accuracy: 0.310 \n",
            "[3] epoch. Loss: 190.921. Training accuracy: 0.310 \n",
            "[4] epoch. Loss: 182.726. Training accuracy: 0.410 \n",
            "[5] epoch. Loss: 175.928. Training accuracy: 0.280 \n",
            "[6] epoch. Loss: 169.449. Training accuracy: 0.390 \n",
            "[7] epoch. Loss: 166.834. Training accuracy: 0.380 \n",
            "[8] epoch. Loss: 163.432. Training accuracy: 0.360 \n",
            "[9] epoch. Loss: 160.188. Training accuracy: 0.440 \n"
          ],
          "name": "stdout"
        },
        {
          "output_type": "error",
          "ename": "KeyboardInterrupt",
          "evalue": "ignored",
          "traceback": [
            "\u001b[0;31m---------------------------------------------------------------------------\u001b[0m",
            "\u001b[0;31mKeyboardInterrupt\u001b[0m                         Traceback (most recent call last)",
            "\u001b[0;32m<ipython-input-84-71e1ea63c542>\u001b[0m in \u001b[0;36m<module>\u001b[0;34m()\u001b[0m\n\u001b[1;32m     19\u001b[0m \u001b[0;34m\u001b[0m\u001b[0m\n\u001b[1;32m     20\u001b[0m         \u001b[0;31m# forward + backward + optimize\u001b[0m\u001b[0;34m\u001b[0m\u001b[0;34m\u001b[0m\u001b[0;34m\u001b[0m\u001b[0m\n\u001b[0;32m---> 21\u001b[0;31m         \u001b[0moutputs\u001b[0m \u001b[0;34m=\u001b[0m \u001b[0mmodel\u001b[0m\u001b[0;34m(\u001b[0m\u001b[0minputs\u001b[0m\u001b[0;34m)\u001b[0m\u001b[0;34m\u001b[0m\u001b[0;34m\u001b[0m\u001b[0m\n\u001b[0m\u001b[1;32m     22\u001b[0m         \u001b[0;31m# print(labels.shape)\u001b[0m\u001b[0;34m\u001b[0m\u001b[0;34m\u001b[0m\u001b[0;34m\u001b[0m\u001b[0m\n\u001b[1;32m     23\u001b[0m         \u001b[0mloss\u001b[0m \u001b[0;34m=\u001b[0m \u001b[0mcriterion\u001b[0m\u001b[0;34m(\u001b[0m\u001b[0moutputs\u001b[0m\u001b[0;34m,\u001b[0m \u001b[0mlabels\u001b[0m\u001b[0;34m)\u001b[0m\u001b[0;34m\u001b[0m\u001b[0;34m\u001b[0m\u001b[0m\n",
            "\u001b[0;32m/usr/local/lib/python3.7/dist-packages/torch/nn/modules/module.py\u001b[0m in \u001b[0;36m_call_impl\u001b[0;34m(self, *input, **kwargs)\u001b[0m\n\u001b[1;32m   1049\u001b[0m         if not (self._backward_hooks or self._forward_hooks or self._forward_pre_hooks or _global_backward_hooks\n\u001b[1;32m   1050\u001b[0m                 or _global_forward_hooks or _global_forward_pre_hooks):\n\u001b[0;32m-> 1051\u001b[0;31m             \u001b[0;32mreturn\u001b[0m \u001b[0mforward_call\u001b[0m\u001b[0;34m(\u001b[0m\u001b[0;34m*\u001b[0m\u001b[0minput\u001b[0m\u001b[0;34m,\u001b[0m \u001b[0;34m**\u001b[0m\u001b[0mkwargs\u001b[0m\u001b[0;34m)\u001b[0m\u001b[0;34m\u001b[0m\u001b[0;34m\u001b[0m\u001b[0m\n\u001b[0m\u001b[1;32m   1052\u001b[0m         \u001b[0;31m# Do not call functions when jit is used\u001b[0m\u001b[0;34m\u001b[0m\u001b[0;34m\u001b[0m\u001b[0;34m\u001b[0m\u001b[0m\n\u001b[1;32m   1053\u001b[0m         \u001b[0mfull_backward_hooks\u001b[0m\u001b[0;34m,\u001b[0m \u001b[0mnon_full_backward_hooks\u001b[0m \u001b[0;34m=\u001b[0m \u001b[0;34m[\u001b[0m\u001b[0;34m]\u001b[0m\u001b[0;34m,\u001b[0m \u001b[0;34m[\u001b[0m\u001b[0;34m]\u001b[0m\u001b[0;34m\u001b[0m\u001b[0;34m\u001b[0m\u001b[0m\n",
            "\u001b[0;32m<ipython-input-20-5bb1d4dc34b7>\u001b[0m in \u001b[0;36mforward\u001b[0;34m(self, x)\u001b[0m\n\u001b[1;32m     12\u001b[0m \u001b[0;34m\u001b[0m\u001b[0m\n\u001b[1;32m     13\u001b[0m     \u001b[0;32mdef\u001b[0m \u001b[0mforward\u001b[0m\u001b[0;34m(\u001b[0m\u001b[0mself\u001b[0m\u001b[0;34m,\u001b[0m \u001b[0mx\u001b[0m\u001b[0;34m)\u001b[0m\u001b[0;34m:\u001b[0m\u001b[0;34m\u001b[0m\u001b[0;34m\u001b[0m\u001b[0m\n\u001b[0;32m---> 14\u001b[0;31m         \u001b[0mx\u001b[0m \u001b[0;34m=\u001b[0m \u001b[0mself\u001b[0m\u001b[0;34m.\u001b[0m\u001b[0mpool\u001b[0m\u001b[0;34m(\u001b[0m\u001b[0mF\u001b[0m\u001b[0;34m.\u001b[0m\u001b[0mrelu\u001b[0m\u001b[0;34m(\u001b[0m\u001b[0mself\u001b[0m\u001b[0;34m.\u001b[0m\u001b[0mconv1\u001b[0m\u001b[0;34m(\u001b[0m\u001b[0mx\u001b[0m\u001b[0;34m)\u001b[0m\u001b[0;34m)\u001b[0m\u001b[0;34m)\u001b[0m\u001b[0;34m\u001b[0m\u001b[0;34m\u001b[0m\u001b[0m\n\u001b[0m\u001b[1;32m     15\u001b[0m         \u001b[0mx\u001b[0m \u001b[0;34m=\u001b[0m \u001b[0mself\u001b[0m\u001b[0;34m.\u001b[0m\u001b[0mpool\u001b[0m\u001b[0;34m(\u001b[0m\u001b[0mF\u001b[0m\u001b[0;34m.\u001b[0m\u001b[0mrelu\u001b[0m\u001b[0;34m(\u001b[0m\u001b[0mself\u001b[0m\u001b[0;34m.\u001b[0m\u001b[0mconv2\u001b[0m\u001b[0;34m(\u001b[0m\u001b[0mx\u001b[0m\u001b[0;34m)\u001b[0m\u001b[0;34m)\u001b[0m\u001b[0;34m)\u001b[0m\u001b[0;34m\u001b[0m\u001b[0;34m\u001b[0m\u001b[0m\n\u001b[1;32m     16\u001b[0m         \u001b[0mx\u001b[0m \u001b[0;34m=\u001b[0m \u001b[0mtorch\u001b[0m\u001b[0;34m.\u001b[0m\u001b[0mflatten\u001b[0m\u001b[0;34m(\u001b[0m\u001b[0mx\u001b[0m\u001b[0;34m,\u001b[0m \u001b[0;36m1\u001b[0m\u001b[0;34m)\u001b[0m \u001b[0;31m# flatten all dimensions except batch\u001b[0m\u001b[0;34m\u001b[0m\u001b[0;34m\u001b[0m\u001b[0m\n",
            "\u001b[0;32m/usr/local/lib/python3.7/dist-packages/torch/nn/modules/module.py\u001b[0m in \u001b[0;36m_call_impl\u001b[0;34m(self, *input, **kwargs)\u001b[0m\n\u001b[1;32m   1049\u001b[0m         if not (self._backward_hooks or self._forward_hooks or self._forward_pre_hooks or _global_backward_hooks\n\u001b[1;32m   1050\u001b[0m                 or _global_forward_hooks or _global_forward_pre_hooks):\n\u001b[0;32m-> 1051\u001b[0;31m             \u001b[0;32mreturn\u001b[0m \u001b[0mforward_call\u001b[0m\u001b[0;34m(\u001b[0m\u001b[0;34m*\u001b[0m\u001b[0minput\u001b[0m\u001b[0;34m,\u001b[0m \u001b[0;34m**\u001b[0m\u001b[0mkwargs\u001b[0m\u001b[0;34m)\u001b[0m\u001b[0;34m\u001b[0m\u001b[0;34m\u001b[0m\u001b[0m\n\u001b[0m\u001b[1;32m   1052\u001b[0m         \u001b[0;31m# Do not call functions when jit is used\u001b[0m\u001b[0;34m\u001b[0m\u001b[0;34m\u001b[0m\u001b[0;34m\u001b[0m\u001b[0m\n\u001b[1;32m   1053\u001b[0m         \u001b[0mfull_backward_hooks\u001b[0m\u001b[0;34m,\u001b[0m \u001b[0mnon_full_backward_hooks\u001b[0m \u001b[0;34m=\u001b[0m \u001b[0;34m[\u001b[0m\u001b[0;34m]\u001b[0m\u001b[0;34m,\u001b[0m \u001b[0;34m[\u001b[0m\u001b[0;34m]\u001b[0m\u001b[0;34m\u001b[0m\u001b[0;34m\u001b[0m\u001b[0m\n",
            "\u001b[0;32m/usr/local/lib/python3.7/dist-packages/torch/nn/modules/pooling.py\u001b[0m in \u001b[0;36mforward\u001b[0;34m(self, input)\u001b[0m\n\u001b[1;32m    162\u001b[0m         return F.max_pool2d(input, self.kernel_size, self.stride,\n\u001b[1;32m    163\u001b[0m                             \u001b[0mself\u001b[0m\u001b[0;34m.\u001b[0m\u001b[0mpadding\u001b[0m\u001b[0;34m,\u001b[0m \u001b[0mself\u001b[0m\u001b[0;34m.\u001b[0m\u001b[0mdilation\u001b[0m\u001b[0;34m,\u001b[0m \u001b[0mself\u001b[0m\u001b[0;34m.\u001b[0m\u001b[0mceil_mode\u001b[0m\u001b[0;34m,\u001b[0m\u001b[0;34m\u001b[0m\u001b[0;34m\u001b[0m\u001b[0m\n\u001b[0;32m--> 164\u001b[0;31m                             self.return_indices)\n\u001b[0m\u001b[1;32m    165\u001b[0m \u001b[0;34m\u001b[0m\u001b[0m\n\u001b[1;32m    166\u001b[0m \u001b[0;34m\u001b[0m\u001b[0m\n",
            "\u001b[0;32m/usr/local/lib/python3.7/dist-packages/torch/_jit_internal.py\u001b[0m in \u001b[0;36mfn\u001b[0;34m(*args, **kwargs)\u001b[0m\n\u001b[1;32m    403\u001b[0m             \u001b[0;32mreturn\u001b[0m \u001b[0mif_true\u001b[0m\u001b[0;34m(\u001b[0m\u001b[0;34m*\u001b[0m\u001b[0margs\u001b[0m\u001b[0;34m,\u001b[0m \u001b[0;34m**\u001b[0m\u001b[0mkwargs\u001b[0m\u001b[0;34m)\u001b[0m\u001b[0;34m\u001b[0m\u001b[0;34m\u001b[0m\u001b[0m\n\u001b[1;32m    404\u001b[0m         \u001b[0;32melse\u001b[0m\u001b[0;34m:\u001b[0m\u001b[0;34m\u001b[0m\u001b[0;34m\u001b[0m\u001b[0m\n\u001b[0;32m--> 405\u001b[0;31m             \u001b[0;32mreturn\u001b[0m \u001b[0mif_false\u001b[0m\u001b[0;34m(\u001b[0m\u001b[0;34m*\u001b[0m\u001b[0margs\u001b[0m\u001b[0;34m,\u001b[0m \u001b[0;34m**\u001b[0m\u001b[0mkwargs\u001b[0m\u001b[0;34m)\u001b[0m\u001b[0;34m\u001b[0m\u001b[0;34m\u001b[0m\u001b[0m\n\u001b[0m\u001b[1;32m    406\u001b[0m \u001b[0;34m\u001b[0m\u001b[0m\n\u001b[1;32m    407\u001b[0m     \u001b[0;32mif\u001b[0m \u001b[0mif_true\u001b[0m\u001b[0;34m.\u001b[0m\u001b[0m__doc__\u001b[0m \u001b[0;32mis\u001b[0m \u001b[0;32mNone\u001b[0m \u001b[0;32mand\u001b[0m \u001b[0mif_false\u001b[0m\u001b[0;34m.\u001b[0m\u001b[0m__doc__\u001b[0m \u001b[0;32mis\u001b[0m \u001b[0;32mnot\u001b[0m \u001b[0;32mNone\u001b[0m\u001b[0;34m:\u001b[0m\u001b[0;34m\u001b[0m\u001b[0;34m\u001b[0m\u001b[0m\n",
            "\u001b[0;32m/usr/local/lib/python3.7/dist-packages/torch/nn/functional.py\u001b[0m in \u001b[0;36m_max_pool2d\u001b[0;34m(input, kernel_size, stride, padding, dilation, ceil_mode, return_indices)\u001b[0m\n\u001b[1;32m    716\u001b[0m     \u001b[0;32mif\u001b[0m \u001b[0mstride\u001b[0m \u001b[0;32mis\u001b[0m \u001b[0;32mNone\u001b[0m\u001b[0;34m:\u001b[0m\u001b[0;34m\u001b[0m\u001b[0;34m\u001b[0m\u001b[0m\n\u001b[1;32m    717\u001b[0m         \u001b[0mstride\u001b[0m \u001b[0;34m=\u001b[0m \u001b[0mtorch\u001b[0m\u001b[0;34m.\u001b[0m\u001b[0mjit\u001b[0m\u001b[0;34m.\u001b[0m\u001b[0mannotate\u001b[0m\u001b[0;34m(\u001b[0m\u001b[0mList\u001b[0m\u001b[0;34m[\u001b[0m\u001b[0mint\u001b[0m\u001b[0;34m]\u001b[0m\u001b[0;34m,\u001b[0m \u001b[0;34m[\u001b[0m\u001b[0;34m]\u001b[0m\u001b[0;34m)\u001b[0m\u001b[0;34m\u001b[0m\u001b[0;34m\u001b[0m\u001b[0m\n\u001b[0;32m--> 718\u001b[0;31m     \u001b[0;32mreturn\u001b[0m \u001b[0mtorch\u001b[0m\u001b[0;34m.\u001b[0m\u001b[0mmax_pool2d\u001b[0m\u001b[0;34m(\u001b[0m\u001b[0minput\u001b[0m\u001b[0;34m,\u001b[0m \u001b[0mkernel_size\u001b[0m\u001b[0;34m,\u001b[0m \u001b[0mstride\u001b[0m\u001b[0;34m,\u001b[0m \u001b[0mpadding\u001b[0m\u001b[0;34m,\u001b[0m \u001b[0mdilation\u001b[0m\u001b[0;34m,\u001b[0m \u001b[0mceil_mode\u001b[0m\u001b[0;34m)\u001b[0m\u001b[0;34m\u001b[0m\u001b[0;34m\u001b[0m\u001b[0m\n\u001b[0m\u001b[1;32m    719\u001b[0m \u001b[0;34m\u001b[0m\u001b[0m\n\u001b[1;32m    720\u001b[0m \u001b[0;34m\u001b[0m\u001b[0m\n",
            "\u001b[0;31mKeyboardInterrupt\u001b[0m: "
          ]
        }
      ]
    },
    {
      "cell_type": "markdown",
      "metadata": {
        "id": "ux_tQa-oTvOg"
      },
      "source": [
        "*Training loss, training accuracy and test accuracy*"
      ]
    },
    {
      "cell_type": "markdown",
      "metadata": {
        "id": "LBD3-QArT-EF"
      },
      "source": [
        "![simpleNet_eval.png](data:image/png;base64,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)\n",
        "\n"
      ]
    },
    {
      "cell_type": "markdown",
      "metadata": {
        "id": "qhpuhEJ-XEqv"
      },
      "source": [
        "# Save the final model configuration"
      ]
    },
    {
      "cell_type": "markdown",
      "metadata": {
        "id": "WW8iA7y_XIUB"
      },
      "source": [
        "Mount my google Drive to save results there"
      ]
    },
    {
      "cell_type": "code",
      "metadata": {
        "id": "HHnLPR4GXMpj"
      },
      "source": [
        "from google.colab import drive\n",
        "drive.mount('/content/drive')"
      ],
      "execution_count": null,
      "outputs": []
    },
    {
      "cell_type": "markdown",
      "metadata": {
        "id": "PeVesUgfXSCd"
      },
      "source": [
        "Save the model"
      ]
    },
    {
      "cell_type": "code",
      "metadata": {
        "id": "e_noX0uO7TBU"
      },
      "source": [
        "#save the trained model\n",
        "model_save_name = 'trainedSimpleNet.pt'\n",
        "path = F\"/content/drive/My Drive/{model_save_name}\" \n",
        "#torch.save(model.state_dict(), path)\n",
        "\n",
        "# load the model\n",
        "# model.load_state_dict(torch.load(path))"
      ],
      "execution_count": null,
      "outputs": []
    },
    {
      "cell_type": "code",
      "metadata": {
        "id": "KZGwu3Oo49aJ"
      },
      "source": [
        "DEVICE"
      ],
      "execution_count": null,
      "outputs": []
    },
    {
      "cell_type": "code",
      "metadata": {
        "id": "NvDQh1Nd3GJH"
      },
      "source": [
        ""
      ],
      "execution_count": null,
      "outputs": []
    }
  ]
}