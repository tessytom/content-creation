{
  "nbformat": 4,
  "nbformat_minor": 0,
  "metadata": {
    "kernelspec": {
      "display_name": "Python 3",
      "language": "python",
      "name": "python3"
    },
    "language_info": {
      "codemirror_mode": {
        "name": "ipython",
        "version": 3
      },
      "file_extension": ".py",
      "mimetype": "text/x-python",
      "name": "python",
      "nbconvert_exporter": "python",
      "pygments_lexer": "ipython3",
      "version": "3.7.10"
    },
    "colab": {
      "name": "Copy of 8_logistic-regression.ipynb",
      "provenance": [],
      "include_colab_link": true
    }
  },
  "cells": [
    {
      "cell_type": "markdown",
      "metadata": {
        "id": "view-in-github",
        "colab_type": "text"
      },
      "source": [
        "<a href=\"https://colab.research.google.com/github/tessytom/content-creation/blob/main/Copy_of_8_logistic_regression.ipynb\" target=\"_parent\"><img src=\"https://colab.research.google.com/assets/colab-badge.svg\" alt=\"Open In Colab\"/></a>"
      ]
    },
    {
      "cell_type": "markdown",
      "metadata": {
        "id": "qKkgtLA0GitV"
      },
      "source": [
        "# Logistic Regression\n",
        "\n",
        "## Anoop Kulkarni, PhD\n",
        "### Innotomy Consulting (www.innotomy.com)\n",
        "***"
      ]
    },
    {
      "cell_type": "markdown",
      "metadata": {
        "id": "atnev6UbGitY"
      },
      "source": [
        "#### Credits: Allison O'Hair, Lecturer of Operations Research and Statistics MIT Sloan School of Management"
      ]
    },
    {
      "cell_type": "markdown",
      "metadata": {
        "id": "-h6K295YGita"
      },
      "source": [
        "![healthcare](https://raw.githubusercontent.com/DrAnoopKulkarni/res/main/healthcare-quality.jpg)"
      ]
    },
    {
      "cell_type": "markdown",
      "metadata": {
        "id": "_KgYdK9QGitb"
      },
      "source": [
        "# Modeling the expert - physicians\n",
        "\n",
        "* Critical decisions are often made by people with expert knowledge\n",
        "* Healthcare quality assessment\n",
        "  * Good quality care educates patients and controls costs\n",
        "  * Need to asess quality for proper medical interventions\n",
        "  * No single set of guidelines for defining the quality of healthcare\n",
        "  * Health professionals are experts in quality of care assessments"
      ]
    },
    {
      "cell_type": "markdown",
      "metadata": {
        "id": "3EMWyRSaGitc"
      },
      "source": [
        "## Experts are humans\n",
        "\n",
        "* So they are limited by time and memory\n",
        "* Healthcare quality assessment\n",
        "  * Expert physicians can evaluate quality by examining a patient's records\n",
        "  * This process is time consuming and inefficient\n",
        "  * Physicians can not assess quality for millions of patients\n",
        "  "
      ]
    },
    {
      "cell_type": "markdown",
      "metadata": {
        "id": "pZILuTwyGite"
      },
      "source": [
        "## Replicating expert assessment\n",
        "\n",
        "* Can we develop analytical tools that replicate human assessment on a large scale?\n",
        "* Learn from expert human judgment\n",
        "  * Develop a model, interpret results and adjust the model\n",
        "* Make predictions / evaluations on a large scape\n",
        "* Healthcare quality assessment\n",
        "  * Let's identify poor healthcare quality using analytics"
      ]
    },
    {
      "cell_type": "markdown",
      "metadata": {
        "id": "y3O64zhlGitf"
      },
      "source": [
        "## Claims Data\n",
        "\n",
        "These are data that are generated\n",
        "when an insured patient goes to a medical provider\n",
        "to receive a diagnosis or to have\n",
        "a procedure, for example an x-ray, or to obtain drugs.\n",
        "The medical providers need to get compensated,\n",
        "so the claims data provide the means for them to be paid.\n",
        "An important question is whether we\n",
        "can assess the quality of health care given this claims data.\n",
        "\n",
        "But let's first ask why assessing\n",
        "the quality of healthcare is an important objective.\n",
        "If one identifies patients that have low quality care,\n",
        "one can intervene and improve outcomes for these patients.\n",
        "Moreover, assessing quality correctly\n",
        "can control costs better.\n",
        "However, defining quality is a complex, not well-defined task.\n",
        "\n",
        "\n",
        "* Claims - Medical claims are generated when a patient visits a doctor.\n",
        "\n",
        "  * Medical claims\n",
        "    * Diagnosis\n",
        "    * Procedures\n",
        "    * Doctor / Hospital\n",
        "    * Cost\n",
        "  * Pharmacy claims\n",
        "    * Drugs\n",
        "    * Quantity\n",
        "    * Doctor\n",
        "    * Medication cost\n",
        "\n",
        "* Electronically available\n",
        "* Standardized\n",
        "* Not 100% accurate\n",
        "* Under-reporting is common\n",
        "* Claims for hospital visits can be vague\n",
        "\n",
        "### Creating the dataset\n",
        "\n",
        "* Claims sample\n",
        "  * Large healthcare insurance database\n",
        "  * Randomly selected 131 diabetes patients\n",
        "  * Ages range from 35 to 55\n",
        "  * Costs from 10,000 USD to 20,000 USD\n",
        "  * Sep 1, 2003 to Aug 31, 2005\n",
        "* Expert review\n",
        "  * Expert physician reviewed claims and wrote descriptive notes\n",
        "    * \"ongoing use of narcotics\"\n",
        "    * \"Only on Avandia, not a good first choice drug\"\n",
        "    * \"Had regular visits, mammogram, and immunications\"\n",
        "    * \"Was given home testing supplies\"\n",
        "* Expert assessment\n",
        "  * Rated quality on a two point scale (poor / good)\n",
        "    * \"I'd say **care was poor** - poorly treated diabetes\"\n",
        "    * \"no eye care, but overall I'd say **high quality**\"\n",
        "* Variable extraction\n",
        "  * Dependent variable\n",
        "    * Quality of Care\n",
        "  * Independent variables\n",
        "    * ongoing use of **narcotics**\n",
        "    * **Only on Avandia**, not a good first choice drug\n",
        "    * Had **regular visits, mammogram, immunications**\n",
        "    * Was given **home testing supplies**"
      ]
    },
    {
      "cell_type": "markdown",
      "metadata": {
        "id": "iWN8Bu3IGith"
      },
      "source": [
        "## Predicting quality of care\n",
        "\n",
        "* The dependent variable is modeled as a binary variable\n",
        "  * 1 for low-quality care\n",
        "  * 0 for good-quality care\n",
        "* This is a _categorical variable_ (with a small number of possible outcomes)\n",
        "* Linear regression would predict a continuous outcome\n",
        "* How can we extend the idea of linear regression to situations where the outocme variable is **categorical**?\n",
        "  * Only want to predict 1 or 0\n",
        "  * Could round outcome to 1 or 0\n",
        "  * But we can do better with logistic regression"
      ]
    },
    {
      "cell_type": "markdown",
      "metadata": {
        "id": "b94CyspAGitj"
      },
      "source": [
        "## Logistic regression\n",
        "\n",
        "* Predicts the probability of poor care\n",
        "  * PoorCare = 1, GoodCare = 0\n",
        "  * Denote dependent variable \"PoorCare\" by $y$\n",
        "  * $P(y = 1)$\n",
        "* Then $P(y = 0) = 1 - P(y = 1)$\n",
        "* Independent variables $x_1, x_2, ..., x_k$\n",
        "* Use the logistic regression function\n",
        "\n",
        "$$ P (y=1) = \\frac{1}{1 + e^{-(\\beta_0+\\beta_1x_1+\\beta_2x_2+...+\\beta_kx_k )}}$$\n",
        "\n",
        "* Non-linear transformation of linear regression equation to produce a number between 0 and 1"
      ]
    },
    {
      "cell_type": "code",
      "metadata": {
        "id": "fXD8zS8lGitk"
      },
      "source": [
        "import numpy as np\n",
        "import pandas as pd\n",
        "import matplotlib.pyplot as plt\n",
        "import seaborn as sns"
      ],
      "execution_count": null,
      "outputs": []
    },
    {
      "cell_type": "code",
      "metadata": {
        "id": "TDZ0JJC8Gitm"
      },
      "source": [
        "x = np.linspace (-10,10, 20)\n",
        "plt.plot(1/(1+np.exp(-x)), color=\"blue\")"
      ],
      "execution_count": null,
      "outputs": []
    },
    {
      "cell_type": "markdown",
      "metadata": {
        "id": "0fH6E-EfGito"
      },
      "source": [
        "* Positive values are predictive of class 1\n",
        "* Negative values are predictive of class 0\n",
        "\n",
        "The coefficients are selected to\n",
        "* Predict high probability for the poor care cases\n",
        "* Predict low probability for the good care cases"
      ]
    },
    {
      "cell_type": "markdown",
      "metadata": {
        "id": "f6jhaW5sGitp"
      },
      "source": [
        "## Relation to Odds\n",
        "\n",
        "$$ Odds = \\frac{P(y=1)}{P(y=0)}$$\n",
        "\n",
        "* Odds > 1 if $y=1$ is more likely\n",
        "* Odds < 1 if $y=0$ is more likely"
      ]
    },
    {
      "cell_type": "markdown",
      "metadata": {
        "id": "LK2NArmRGitq"
      },
      "source": [
        "## The Logit\n",
        "\n",
        "* It turns out that\n",
        "\n",
        "$$ Odds = e^{\\beta_0+\\beta_1x_1+\\beta_2x_2+...+\\beta_kx_k)} $$\n",
        "\n",
        "$$ log(odds) = \\beta_0+\\beta_1x_1+\\beta_2x_2+...+\\beta_kx_k) $$\n",
        "\n",
        "* This is called the Logit and looks like linear regression.\n",
        "* The bigger the logit is, the bigger $P(y=1)$"
      ]
    },
    {
      "cell_type": "markdown",
      "metadata": {
        "id": "BnvEYvfcGitr"
      },
      "source": [
        "## The Claims data"
      ]
    },
    {
      "cell_type": "code",
      "metadata": {
        "id": "_o1RVRfIGits"
      },
      "source": [
        "quality = pd.read_csv(\"https://raw.githubusercontent.com/DrAnoopKulkarni/ml-datasets/main/quality.csv.xz\")"
      ],
      "execution_count": null,
      "outputs": []
    },
    {
      "cell_type": "code",
      "metadata": {
        "id": "9zg6jB30Gitt"
      },
      "source": [
        "quality.head()"
      ],
      "execution_count": null,
      "outputs": []
    },
    {
      "cell_type": "code",
      "metadata": {
        "id": "jMb9xzAmGitu"
      },
      "source": [
        "def abline(slope, intercept, col, lwd, label=\"\"):\n",
        "    axes = plt.gca()\n",
        "    x_vals = np.array(axes.get_xlim())\n",
        "    y_vals = intercept + slope * x_vals\n",
        "    plt.plot(x_vals, y_vals, color=col, linewidth=lwd, label=label)"
      ],
      "execution_count": null,
      "outputs": []
    },
    {
      "cell_type": "code",
      "metadata": {
        "id": "HffOYUjiGitv"
      },
      "source": [
        "colors = {0:'green', 1:'red'}\n",
        "\n",
        "plt.scatter (quality.OfficeVisits, quality.Narcotics, c=quality.PoorCare.map(colors))\n",
        "plt.ylim((0,60))"
      ],
      "execution_count": null,
      "outputs": []
    },
    {
      "cell_type": "code",
      "metadata": {
        "id": "8jjqPU-FGitw"
      },
      "source": [
        "colors = {0:'green', 1:'red'}\n",
        "\n",
        "plt.scatter (quality.OfficeVisits, quality.Narcotics, c=quality.PoorCare.map(colors))\n",
        "plt.ylim((0,60))\n",
        "abline (-1,30,col=\"blue\", lwd=2)"
      ],
      "execution_count": null,
      "outputs": []
    },
    {
      "cell_type": "code",
      "metadata": {
        "id": "rFUpCN9FGitx"
      },
      "source": [
        "quality['PoorCare'].value_counts()"
      ],
      "execution_count": null,
      "outputs": []
    },
    {
      "cell_type": "markdown",
      "metadata": {
        "id": "r5eZQjY6Gity"
      },
      "source": [
        "98 received good care and 33 received poor care. We used $R^2$ in linear regression as a way of comparing the model against the baseline. \n",
        "\n",
        "Let's consider a simple baseline method for classification problems. A common method is to simply predict the most frequent outcome. So, simply choose the variable that has higher count and use that as your baseline accuracy. e.g."
      ]
    },
    {
      "cell_type": "code",
      "metadata": {
        "id": "BxpcIaiWGity"
      },
      "source": [
        "98 / 131"
      ],
      "execution_count": null,
      "outputs": []
    },
    {
      "cell_type": "markdown",
      "metadata": {
        "id": "jj--s_txGitz"
      },
      "source": [
        "75% is the baseline accuracy of the model and this is what we should beat with our logistic model."
      ]
    },
    {
      "cell_type": "markdown",
      "metadata": {
        "id": "dyxaRdtqGit0"
      },
      "source": [
        "## Training and test datasets\n",
        "\n",
        "![data-splits](https://raw.githubusercontent.com/DrAnoopKulkarni/res/main/analytics-splitting-datasets.jpg)"
      ]
    },
    {
      "cell_type": "code",
      "metadata": {
        "id": "niIQphZEGit2"
      },
      "source": [
        "from sklearn.model_selection import train_test_split"
      ],
      "execution_count": null,
      "outputs": []
    },
    {
      "cell_type": "code",
      "metadata": {
        "id": "6YB3rRS1Git3"
      },
      "source": [
        "y = quality.PoorCare.values\n",
        "X = quality.drop('PoorCare', axis=1)"
      ],
      "execution_count": null,
      "outputs": []
    },
    {
      "cell_type": "code",
      "metadata": {
        "id": "zPeudYXSGit4"
      },
      "source": [
        "qualityTrain, qualityTest = train_test_split(quality, \n",
        "                                             stratify=quality.PoorCare, \n",
        "                                             random_state=88,\n",
        "                                             test_size = 0.25)"
      ],
      "execution_count": null,
      "outputs": []
    },
    {
      "cell_type": "code",
      "metadata": {
        "id": "D_oT1CWOGit5"
      },
      "source": [
        "qualityTrain.shape"
      ],
      "execution_count": null,
      "outputs": []
    },
    {
      "cell_type": "code",
      "metadata": {
        "id": "sRMsVO7SGit6"
      },
      "source": [
        "qualityTest.shape"
      ],
      "execution_count": null,
      "outputs": []
    },
    {
      "cell_type": "code",
      "metadata": {
        "id": "16FEOyh2Git7"
      },
      "source": [
        "qualityTrain.PoorCare.value_counts()"
      ],
      "execution_count": null,
      "outputs": []
    },
    {
      "cell_type": "code",
      "metadata": {
        "id": "feRopE2OGit8"
      },
      "source": [
        "qualityTest.PoorCare.value_counts()"
      ],
      "execution_count": null,
      "outputs": []
    },
    {
      "cell_type": "markdown",
      "metadata": {
        "id": "5VxhxJs3Git9"
      },
      "source": [
        "Now, let's build the logistic regression model using Narcotics and OfficeVisits as independent variables"
      ]
    },
    {
      "cell_type": "code",
      "metadata": {
        "id": "2KRcTdiDGit-"
      },
      "source": [
        "import statsmodels.api as sm\n",
        "import statsmodels.formula.api as smf"
      ],
      "execution_count": null,
      "outputs": []
    },
    {
      "cell_type": "code",
      "metadata": {
        "id": "s4ASboEdGit_"
      },
      "source": [
        "qualityLog = smf.glm ('PoorCare ~ Narcotics + OfficeVisits', data = qualityTrain, \n",
        "                  family = sm.families.Binomial())\n",
        "result = qualityLog.fit()"
      ],
      "execution_count": null,
      "outputs": []
    },
    {
      "cell_type": "code",
      "metadata": {
        "id": "Ap3lY7wpGit_"
      },
      "source": [
        "result.summary()"
      ],
      "execution_count": null,
      "outputs": []
    },
    {
      "cell_type": "markdown",
      "metadata": {
        "id": "06UycaLUGiuA"
      },
      "source": [
        "Let's look at the coefficients. Both coefficients of Narcotics and OfficeVisits are positive , which means higher values of these variables indicates poor case, something we sensed graphically. Both are also significant (look at stars)\n",
        "\n",
        "Lastly, we should be interested in the AIC value. This is similar to the $R^2$ value in linear regression. You can compare models with AIC values. The preferred or the best fitting model will be the one with minimum AIC."
      ]
    },
    {
      "cell_type": "markdown",
      "metadata": {
        "id": "4KGezKdjGiuC"
      },
      "source": [
        "Let's make predictions on the training set"
      ]
    },
    {
      "cell_type": "code",
      "metadata": {
        "id": "XNX8FPqCGiuF"
      },
      "source": [
        "predictTrain = result.predict ()"
      ],
      "execution_count": null,
      "outputs": []
    },
    {
      "cell_type": "code",
      "metadata": {
        "id": "d6TkqyOcGiuG"
      },
      "source": [
        "pd.DataFrame(predictTrain).describe()"
      ],
      "execution_count": null,
      "outputs": []
    },
    {
      "cell_type": "code",
      "metadata": {
        "id": "O8BCr274GiuH"
      },
      "source": [
        "df = pd.DataFrame({'predictions': predictTrain, 'PoorCare': qualityTrain.PoorCare.values})\n",
        "df.groupby('PoorCare').mean()"
      ],
      "execution_count": null,
      "outputs": []
    },
    {
      "cell_type": "markdown",
      "metadata": {
        "id": "SvWo5kNvGiuI"
      },
      "source": [
        "All true poorcase cases, probability is 0.42 whereas it is 0.20 for good care. So good model?"
      ]
    },
    {
      "cell_type": "markdown",
      "metadata": {
        "id": "sh9pNRWdGiuJ"
      },
      "source": [
        "## Threshold value\n",
        "\n",
        "* The outcome of a logistic regression model is a probability\n",
        "* Often, we want to make a binary prediction\n",
        "  * did the patient receive poor care or good care?\n",
        "  * Predict 1 or 0\n",
        "* Probabilties can be converted to binary predictions using _threshold values_\n",
        "* If $P(PoorCare = 1) \\geq t$, predict poor quality\n",
        "* If $P(PoorCare = 1) \\lt t$, predict good quality\n",
        "\n",
        "What value of threshold should we use?"
      ]
    },
    {
      "cell_type": "markdown",
      "metadata": {
        "id": "BjtUKF0xGiuL"
      },
      "source": [
        "They are often selected based on which errors are \"better\"\n",
        "\n",
        "* If $t$ is **large**, predict poor care rarely (When $P(PoorCare=1)$ is large)\n",
        "  * More errors when we say good care, but it is actually poor care\n",
        "  * Detects patients who are receiving the worst care\n",
        "* If $t$ is **small**, predict good care rarely (When $P(PoorCare=1)$ is small)\n",
        "  * More errors when we say poor care, but it is actually good care\n",
        "  * Detects al patients who might be receiving poor care\n",
        "  \n",
        "* With no preference between the errors, select $t = 0.5$\n",
        "  * This way, you predict the more likely outcome"
      ]
    },
    {
      "cell_type": "markdown",
      "metadata": {
        "id": "3DnLrK1XGiuL"
      },
      "source": [
        "## Confusion Matrix\n",
        "\n",
        "Compare actual outcomes to predicted outcomes using a confusion matrix (classification matrix)\n",
        "\n",
        "<table>\n",
        "    <tr><td></td><td>Predicted = 0</td><td>Predicted = 1</td></tr>\n",
        "    <tr><td>Actual = 0</td><td>True Negatives (TN)</td><td>False Positives (FP)</td></tr>\n",
        "    <tr><td>Actual = 1</td><td>False Negatives (FN)</td><td>True Positives (TP</td></tr>\n",
        "</table>\n",
        "\n",
        "We define sensitivity and specificity of a model as follows:\n",
        "\n",
        "$$ Sensitivity = \\frac{TP}{TP+FN} $$\n",
        "\n",
        "$$ Specificity = \\frac{TN}{TN+FP} $$"
      ]
    },
    {
      "cell_type": "code",
      "metadata": {
        "id": "W3HfhcCrGiuM"
      },
      "source": [
        "from sklearn.metrics import confusion_matrix"
      ],
      "execution_count": null,
      "outputs": []
    },
    {
      "cell_type": "markdown",
      "metadata": {
        "id": "7yqvBbwYGiuM"
      },
      "source": [
        "### threshold = 0.5"
      ]
    },
    {
      "cell_type": "code",
      "metadata": {
        "id": "-EH_hc8dGiuN"
      },
      "source": [
        "df = pd.DataFrame({'predictions': predictTrain > 0.5, 'PoorCare': qualityTrain.PoorCare.values})\n",
        "confusion_matrix(df['PoorCare'], df['predictions'])"
      ],
      "execution_count": null,
      "outputs": []
    },
    {
      "cell_type": "code",
      "metadata": {
        "id": "7nvoTnarGiuO"
      },
      "source": [
        "sensitivity = 9 / (9 + 16)\n",
        "sensitivity"
      ],
      "execution_count": null,
      "outputs": []
    },
    {
      "cell_type": "code",
      "metadata": {
        "id": "9WBigGkLGiuP"
      },
      "source": [
        "specificity = 71 / (71 + 2)\n",
        "specificity"
      ],
      "execution_count": null,
      "outputs": []
    },
    {
      "cell_type": "markdown",
      "metadata": {
        "id": "QE6OATUCGiuS"
      },
      "source": [
        "### threshold = 0.7"
      ]
    },
    {
      "cell_type": "code",
      "metadata": {
        "id": "luDU8xOVGiuS"
      },
      "source": [
        "df = pd.DataFrame({'predictions': predictTrain > 0.7, 'PoorCare': qualityTrain.PoorCare.values})\n",
        "confusion_matrix(df['PoorCare'], df['predictions'])"
      ],
      "execution_count": null,
      "outputs": []
    },
    {
      "cell_type": "code",
      "metadata": {
        "id": "IODOWxJpGiuT"
      },
      "source": [
        "sensitivity = 8 / (17 + 8)\n",
        "sensitivity"
      ],
      "execution_count": null,
      "outputs": []
    },
    {
      "cell_type": "code",
      "metadata": {
        "id": "aJRlzlQLGiuU"
      },
      "source": [
        "specificity = 72 / (72 + 1)\n",
        "specificity"
      ],
      "execution_count": null,
      "outputs": []
    },
    {
      "cell_type": "markdown",
      "metadata": {
        "id": "JvRDitnhGiuV"
      },
      "source": [
        "By increasing the threshold, sensitivity went down, but specificity went up"
      ]
    },
    {
      "cell_type": "markdown",
      "metadata": {
        "id": "ykNVw_OQGiuW"
      },
      "source": [
        "### threshold = 0.2"
      ]
    },
    {
      "cell_type": "code",
      "metadata": {
        "id": "02QNtl-KGiuX"
      },
      "source": [
        "df = pd.DataFrame({'predictions': predictTrain > 0.2, 'PoorCare': qualityTrain.PoorCare.values})\n",
        "confusion_matrix(df['PoorCare'], df['predictions'])"
      ],
      "execution_count": null,
      "outputs": []
    },
    {
      "cell_type": "code",
      "metadata": {
        "id": "_vqu8I4QGiuX"
      },
      "source": [
        "sensitivity = 15 / (10 + 15)\n",
        "sensitivity"
      ],
      "execution_count": null,
      "outputs": []
    },
    {
      "cell_type": "code",
      "metadata": {
        "id": "xdcWb6x2GiuY"
      },
      "source": [
        "specificity = 56 / (56 + 17)\n",
        "specificity"
      ],
      "execution_count": null,
      "outputs": []
    },
    {
      "cell_type": "markdown",
      "metadata": {
        "id": "LI1p-lD1GiuY"
      },
      "source": [
        "By decreasing the threshold, sensitivity went up, but specificity went down"
      ]
    },
    {
      "cell_type": "markdown",
      "metadata": {
        "id": "M-SlQUZBGiuZ"
      },
      "source": [
        "So which threshold to pick up?"
      ]
    },
    {
      "cell_type": "markdown",
      "metadata": {
        "id": "3ORXUO1rGiua"
      },
      "source": [
        "## ROC Curve - The Receiver Operator Characteristic"
      ]
    },
    {
      "cell_type": "code",
      "metadata": {
        "id": "cIcZoT0lGiua"
      },
      "source": [
        "from sklearn.metrics import plot_roc_curve, roc_curve"
      ],
      "execution_count": null,
      "outputs": []
    },
    {
      "cell_type": "code",
      "metadata": {
        "id": "Tnxm069UGiua"
      },
      "source": [
        "def plot_roc_cur(fper, tper):  \n",
        "    plt.plot(fper, tper, color='orange', label='ROC')\n",
        "    plt.plot([0, 1], [0, 1], color='darkblue', linestyle='--')\n",
        "    plt.xlabel('False Positive Rate')\n",
        "    plt.ylabel('True Positive Rate')\n",
        "    plt.title('Receiver Operating Characteristic (ROC) Curve')\n",
        "    plt.legend()\n",
        "    plt.show()"
      ],
      "execution_count": null,
      "outputs": []
    },
    {
      "cell_type": "code",
      "metadata": {
        "id": "cPiStJTjGiub"
      },
      "source": [
        "fper, tper, thresholds = roc_curve(qualityTrain.PoorCare.values, predictTrain) \n",
        "plot_roc_cur(fper, tper)"
      ],
      "execution_count": null,
      "outputs": []
    },
    {
      "cell_type": "code",
      "metadata": {
        "id": "jOeAJ688Giub"
      },
      "source": [
        "from sklearn.metrics import auc\n",
        "auc = auc(fper, tper)\n",
        "auc"
      ],
      "execution_count": null,
      "outputs": []
    },
    {
      "cell_type": "markdown",
      "metadata": {
        "id": "yd0AgLGJGiub"
      },
      "source": [
        "A plot with\n",
        "* True positive rate (sensitivity) on x-axis\n",
        "    * Proportion of poor care caught\n",
        "* False positive rate (specificity) on y-axis\n",
        "    * Proportion of good care labeled as poor care\n",
        "* Plotted for different threshold values\n",
        "* Always starts at the point (0,0) , corresponding to a threshold value of $t=1$\n",
        "* Always ends at the point (1,1), corresponding to a threshold value of $t=0$\n",
        "\n",
        "\n",
        "### Selecting a threshold using ROC\n",
        "* Captures all thresholds simultaneously\n",
        "* High Threshold\n",
        "    * High Specificity\n",
        "    * Low Sensitivity\n",
        "* Low Threshold\n",
        "    * Low Specificity\n",
        "    * High Sensitivity\n",
        "* Choose **best threshold** for **best trade off**\n",
        "    * cost of failing to detect positives\n",
        "    * costs of raising false alarm"
      ]
    },
    {
      "cell_type": "markdown",
      "metadata": {
        "id": "M_lisnK9Giub"
      },
      "source": [
        "## Interpreting the model\n",
        "\n",
        "* Multi-collinearity could be a problem\n",
        "    * Do the coefficients make sense?\n",
        "    * Check correlations\n",
        "* Significance\n",
        "\n",
        "### Area under the ROC Curve (AUC)\n",
        "\n",
        "* Just take the area under the curve\n",
        "* Interpretation\n",
        "    * Given a random positive and negative, proportion of the time, you guess which is which correctly\n",
        "* Less affected by sample balance than accuracy\n",
        "\n",
        "### What is a good AUC?\n",
        "\n",
        "* Maximum of 1 - perfect prediction"
      ]
    },
    {
      "cell_type": "markdown",
      "metadata": {
        "id": "KJ3RXiltGiuc"
      },
      "source": [
        "## Confusion Matrix\n",
        "\n",
        "Compare actual outcomes to predicted outcomes using a confusion matrix (classification matrix)\n",
        "\n",
        "<table>\n",
        "    <tr><td></td><td>Predicted = 0</td><td>Predicted = 1</td></tr>\n",
        "    <tr><td>Actual = 0</td><td>True Negatives (TN)</td><td>False Positives (FP)</td></tr>\n",
        "    <tr><td>Actual = 1</td><td>False Negatives (FN)</td><td>True Positives (TP</td></tr>\n",
        "</table>\n",
        "\n",
        "We define the following:\n",
        "\n",
        "$$ Accuracy = \\frac{TN + TP}{N} $$\n",
        "\n",
        "$$ Overall Error Rate = \\frac{FP + FN}{N} $$\n",
        "\n",
        "$$ Sensitivity = \\frac{TP}{TP+FN} $$\n",
        "\n",
        "$$ Specificity = \\frac{TN}{TN+FP} $$\n",
        "\n",
        "$$ False Negative Error Rate = \\frac{FN}{TP+FN} $$\n",
        "\n",
        "$$ False Positive Error Rate = \\frac{FP}{TN+FP} $$"
      ]
    },
    {
      "cell_type": "markdown",
      "metadata": {
        "id": "cdLkOCzoGiuc"
      },
      "source": [
        "## Now let's make some predictions"
      ]
    },
    {
      "cell_type": "code",
      "metadata": {
        "id": "t-lorRzCGiuc"
      },
      "source": [
        "predictTest = result.predict(qualityTest)"
      ],
      "execution_count": null,
      "outputs": []
    },
    {
      "cell_type": "code",
      "metadata": {
        "id": "QfiGHvKxGiud"
      },
      "source": [
        "fper, tper, thresholds = roc_curve(qualityTest.PoorCare.values, predictTest) \n",
        "plot_roc_cur(fper, tper)"
      ],
      "execution_count": null,
      "outputs": []
    },
    {
      "cell_type": "code",
      "metadata": {
        "id": "1jNLcHUrGiud"
      },
      "source": [
        "from sklearn.metrics import auc"
      ],
      "execution_count": null,
      "outputs": []
    },
    {
      "cell_type": "code",
      "metadata": {
        "id": "Iqc9M2pMGiud"
      },
      "source": [
        "auc = auc(fper, tper)\n",
        "auc"
      ],
      "execution_count": null,
      "outputs": []
    },
    {
      "cell_type": "markdown",
      "metadata": {
        "id": "QrcvUrw4Giud"
      },
      "source": [
        "## Using scikit-learn for regression"
      ]
    },
    {
      "cell_type": "code",
      "metadata": {
        "id": "BXf74cdiGiue"
      },
      "source": [
        "import numpy as np\n",
        "import pandas as pd\n",
        "import matplotlib.pyplot as plt\n",
        "import seaborn as sns"
      ],
      "execution_count": null,
      "outputs": []
    },
    {
      "cell_type": "code",
      "metadata": {
        "id": "GzcPakpiGiue"
      },
      "source": [
        "from sklearn import datasets, linear_model\n",
        "from sklearn.metrics import mean_squared_error, r2_score\n",
        "from sklearn.model_selection import train_test_split"
      ],
      "execution_count": null,
      "outputs": []
    },
    {
      "cell_type": "code",
      "metadata": {
        "id": "zZgbOIOHGiuf"
      },
      "source": [
        "y = qualityTrain.PoorCare.values\n",
        "X = qualityTrain[['Narcotics', 'OfficeVisits']]"
      ],
      "execution_count": null,
      "outputs": []
    },
    {
      "cell_type": "code",
      "metadata": {
        "id": "-r6uruaLGiuf"
      },
      "source": [
        "X.shape, y.shape"
      ],
      "execution_count": null,
      "outputs": []
    },
    {
      "cell_type": "code",
      "metadata": {
        "id": "5cCI5y8GGiuf"
      },
      "source": [
        "X.head()"
      ],
      "execution_count": null,
      "outputs": []
    },
    {
      "cell_type": "code",
      "metadata": {
        "id": "K8VUB3g0Giug"
      },
      "source": [
        "model = linear_model.LogisticRegression()"
      ],
      "execution_count": null,
      "outputs": []
    },
    {
      "cell_type": "code",
      "metadata": {
        "id": "AagAQD36Giug"
      },
      "source": [
        "model.fit(X,y)"
      ],
      "execution_count": null,
      "outputs": []
    },
    {
      "cell_type": "code",
      "metadata": {
        "id": "3APVAczNGiui"
      },
      "source": [
        "model.coef_"
      ],
      "execution_count": null,
      "outputs": []
    },
    {
      "cell_type": "code",
      "metadata": {
        "id": "-LYX4Jd3Giui"
      },
      "source": [
        "model.intercept_"
      ],
      "execution_count": null,
      "outputs": []
    },
    {
      "cell_type": "code",
      "metadata": {
        "id": "UHQFmMw_Giui"
      },
      "source": [
        "predictTrain = model.predict_proba(X)"
      ],
      "execution_count": null,
      "outputs": []
    },
    {
      "cell_type": "code",
      "metadata": {
        "id": "C1WXM_JzGiuj"
      },
      "source": [
        "model.score(X,y)"
      ],
      "execution_count": null,
      "outputs": []
    },
    {
      "cell_type": "code",
      "metadata": {
        "id": "tdL-jOdKGiuj"
      },
      "source": [
        "fper, tper, thresholds = roc_curve(qualityTrain.PoorCare.values, predictTrain[:,1]) \n",
        "plot_roc_cur(fper, tper)"
      ],
      "execution_count": null,
      "outputs": []
    },
    {
      "cell_type": "code",
      "metadata": {
        "id": "vXos6O3HGiuk"
      },
      "source": [
        "from sklearn.metrics import auc\n",
        "auc = auc(fper, tper)\n",
        "auc"
      ],
      "execution_count": null,
      "outputs": []
    },
    {
      "cell_type": "markdown",
      "metadata": {
        "id": "5WEc7NhgGiuk"
      },
      "source": [
        "## Let's make some predictions"
      ]
    },
    {
      "cell_type": "code",
      "metadata": {
        "id": "ODRs1-POGiul"
      },
      "source": [
        "## Now let's make some predictions\n",
        "\n",
        "predictTest = result.predict(qualityTest)\n",
        "\n",
        "fper, tper, thresholds = roc_curve(qualityTest.PoorCare.values, predictTest) \n",
        "plot_roc_cur(fper, tper)\n",
        "\n",
        "from sklearn.metrics import auc\n",
        "\n",
        "auc = auc(fper, tper)\n",
        "auc"
      ],
      "execution_count": null,
      "outputs": []
    },
    {
      "cell_type": "code",
      "metadata": {
        "id": "epkGkuFIGiul"
      },
      "source": [
        ""
      ],
      "execution_count": null,
      "outputs": []
    }
  ]
}